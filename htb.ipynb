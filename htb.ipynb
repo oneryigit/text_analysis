{
 "cells": [
  {
   "cell_type": "code",
   "execution_count": 1,
   "metadata": {},
   "outputs": [],
   "source": [
    "import numpy as np\n",
    "import pandas as pd\n",
    "import matplotlib.pyplot as plt\n",
    "import re"
   ]
  },
  {
   "cell_type": "code",
   "execution_count": 2,
   "metadata": {},
   "outputs": [],
   "source": [
    "df=pd.read_csv(\"hutbeler11-22.csv\")"
   ]
  },
  {
   "cell_type": "code",
   "execution_count": 3,
   "metadata": {},
   "outputs": [
    {
     "data": {
      "text/html": [
       "<div><div id=4a5eea1e-0972-4d26-8ec1-7ccc5c70061e style=\"display:none; background-color:#9D6CFF; color:white; width:200px; height:30px; padding-left:5px; border-radius:4px; flex-direction:row; justify-content:space-around; align-items:center;\" onmouseover=\"this.style.backgroundColor='#BA9BF8'\" onmouseout=\"this.style.backgroundColor='#9D6CFF'\" onclick=\"window.commands?.execute('create-mitosheet-from-dataframe-output');\">See Full Dataframe in Mito</div> <script> if (window.commands.hasCommand('create-mitosheet-from-dataframe-output')) document.getElementById('4a5eea1e-0972-4d26-8ec1-7ccc5c70061e').style.display = 'flex' </script> <table border=\"1\" class=\"dataframe\">\n",
       "  <thead>\n",
       "    <tr style=\"text-align: right;\">\n",
       "      <th></th>\n",
       "      <th>Unnamed: 0</th>\n",
       "      <th>content</th>\n",
       "      <th>date</th>\n",
       "    </tr>\n",
       "  </thead>\n",
       "  <tbody>\n",
       "    <tr>\n",
       "      <th>0</th>\n",
       "      <td>0</td>\n",
       "      <td>MERHAMET EĞİTİMİ “Küçüklerimize sevgi, göstermeyen değildir..”4 , büyüklerimize saygı “Haksız yere bir serçeyi öldürenden Cenab-ı Allah kıyamet gününde hesap soracaktır.” 5 buyurmamış mıydı merhamet peygamberi? Aziz Kardeşlerim! Enbiya, 21/107 Buhari,Tevhid,2 Alemlere rahmet Efendimize bir ayet nazil oluyor: “…Hayır hayır! Doğrusu yapıp ettiklerinden kalplerinin üzeri pas tutmuştur.” 1 Bazı sahabiler kalbin pas tutmasının demek olduğunu, mecâzi vurgunun ifade anlamakta güçlük çekiyorlar. Bunun üzerine Allah Resulü buyuruyor: “Kul bir günah işlediği zaman kalbinde siyah bir nokta oluşur. Bundan vazgeçip tövbe istiğfar zaman kalbi parlar. Günahtan dönmez yapma devam ederse siyah nokta arttırılır kalbini işgal eder. İşte Allah’ın kitabında; ‘Hayır hayır doğrusu yapıp ettiklerinden kalpleri pas tutmuştur.’ anlatılan pas budur.”2 Kardeşlerim, bugün yürek paslanmasını kalp kararmasını yaşamaktayız. Zira, suyun topraktan çekilmesi gibi, merhamet insanlığın vicdanından hızla çekiliyor. Merhametin açtığı boşluğu, şiddet, öfke zorbalık doldurmakta. Ahlaki yozlaşmalar vicdani duygulardan yoksunluk hayatın alanında gün geçtikçe artıyor. İnsanlık hengâmede oluş yaratılış hikmetinden uzaklaşıyor. Şiddet maalesef; kültür, inanç, ırk coğrafya tanımaksızın dünyayı kasıp kavuruyor. Hemen günümüzü, zulüm, cinayet haksızlıklara şahit olmanın vicdanımızda açtığı yaralar yüreğimizde bıraktığı sızılarla yaşamaktayız. Rabbimizin mesajları evrendeki varlık hayattır, rahmettir. Öyle ki, Peygamberimiz âlemlere rahmet gönderilmiştir. Müslümanlar rahmet merhameti prensip edindiğimizi ilan için, Allah’ın Rahman Rahim sıfatlarını zikirle başlarız, söz işimize… Gönüllere sirayet rahmet, kâinatı içindeki kucaklayan bir merhamete dönüşür. Böyle bir gönül, insana değil; bitkiye, hayvana eşyaya merhamet nazarıyla bakar. Karıncayı incitmenin merhametsizlik bilir. Gerçek ki, ilahî rahmetin tecelli etmediği yürekler merhametten yoksundur. Merhametsiz gönüllerde sevgi, şefkat, ülfet insaf bulunmaz. Nitekim, davranışıyla bizlere rehber Âlemlerin efendisi; “Merhamet kalbi katılaşmış inançsız bedbahtların kalbinden kaldırılmıştır.”6 buyurarak acınası duruma dikkatlerimizi çekmektedir. Öyleyse insanlık bugün, topyekûn bir yürek terbiyesine merhamet eğitimine ihtiyacımız vardır. Kardeşlerim! Başkanlığımız yıl Kutlu Doğum Haftası etkinliklerinin ana başlığını, “Hz. Peygamber Merhamet Eğitimi” belirlemiştir. Bu vesileyle Peygamberimizin örnekliğinde, toplumun kesiminde muhtaç olduğumuz fiilî bir merhamet seferberliği hedeflenmektedir. Şüphesiz merhametten maksat, sıradan bir acıma duygusunu öne çıkarmak değildir. Merhamet eğitimi, kalbin basiretini açan, eşyaya kainata gönül gözü bakmayı sağlayan bir eğitimdir. Merhamet eğitimiyle, kalpleri kin, öfke, intikam, şehvet, ihtiras hastalıklardan temizleyerek yürekler arası şefkat merhamet şebekesi kurmak amaçlanmaktadır. Özünü sevgi merhametin oluşturduğu eğitim de; rahmet peygamberinin mesajlarını anlamak, üzerinde düşünmek şiddetin açtığı yaralara merhem sürmekle mümkün olabilir. Kardeşlerim! Evet, Değerli Kardeşlerim! Geliniz, merhameti ilişkilerimizin odağı yapalım… Yavrularımız, bir çiçeğe, bir hayvana, tabiata insana merhamet nazarıyla bakabilsin… Muhtaca merhamet elini uzatabilsin… Komşumuzla gerektiğinde bir ekmeği paylaşabilmek, selam tebessüm karşılamak, merhametimiz olsun… Elimiz; sahipsiz, yetim öksüzün başını şefkatle okşayabilsin… Kainatta merhametsizlikten kaynaklanan çığlık vicdanımızda yankılansın… Bütün insanlığın önemli değeri merhametin ferdi toplumsal hayatımızdan uzaklaşmaya başladığının göstergesi midir? Gerçekten bugün evimizde, sokağımızda, işyerimizde, uzak yakın çevremizde merhamete muhtacız. Evladımız şefkat merhamet eli bekliyor. Ailemiz, arkadaşımız, komşumuz, yetimlerimiz, yaşlılarımız, gençlerimiz, engellilerimiz, fakir fukaramız tahrip edilen çevremiz merhamet beklemektedir. Dünyaya gözlerini açmadan katledilen bebekler, yalnızlığa terk edilmiş anne-babalar, sokakları mesken edinmiş sahipsiz çocuklar, kurşun bombalara hedef masumlar, derin bir ıstırapla “merhamet eli nerede?” diyorlar… Oysa; “Komşusu açken tok sabahlayan değildir”3 , Hutbemizi, noktalayalım: Rahmeten li’l âleminin bir sözüyle “İnsanlara merhamet etmeyene Allah merhamet etmez.”7</td>\n",
       "      <td>15.04.2011</td>\n",
       "    </tr>\n",
       "    <tr>\n",
       "      <th>1</th>\n",
       "      <td>1</td>\n",
       "      <td>AZÎZ ŞEHİTLERİMİZE… Bir cenaze gördüğü zaman “Sen git, geliyoruz…” derdi Ebu’d-Derda’ hazretleri… Bizler şehitlerimize dua ederken, müjde alırız. Zira onlar, Allah’ın vaat müjdeye kavuşmuş, görmüş, ebedî saadetin nimetlerini bilfiil tatmaya başlamışlardır. Çünkü “Allah yolunda öldürülenleri ölü sayma. Onlar hayattalar Rablerinin katında rızıklanıyorlar. Allah’ın kereminden bağışladığı nimetlerin mutluluğu içinde, arkalarında katılmamış kardeşlerine, korku olmayacağını üzülmeyeceklerini müjdeliyorlar…” 1 İlâhi kelamının muhatabı “Şüphesiz Allah, mü’minlerden canlarını mallarını, vereceği cennet karşılığında satın almıştır…” 2 beşâretinin güzide temsilcileridir. Kardeşlerim! Rahmet Peygamberi ise; “Nefsim kudret elinde Allah’a yemin ederim ki, Allah yolunda savaşıp öldürülmeyi, diriltilip öldürülmeyi, diriltilip öldürülmeyi isterdim.” 3 buyurarak şehitliğin yüceliğine işaret etmiştir. Cenazelerimiz, istikbalimizdir. Bugün uğurlarız; yarın kardeşlerimiz ilahî rahmetin kucağına tevdi ederler bizi. Uğurladıklarımız arasında öyleleri ki, ölü demeyiz. Çünkü şehitlerimizdir. Biz ölü demesek de, diyemesek de, acılarını kalbimizin ta derinliklerinde yaşarız. Onlar babamızdır, kardeşimizdir, eşimizdir, evladımızdır. Onlar ülkenin doğusundan, batısından, köyünden kentindendir. Kim olurlarsa olsunlar, nereli olurlarsa olsunlar, biri, hepimizin şehididirler. Bu toprakların üzerine bir damla şehit kanı düştü mü, acısı vatanı sarar, ıstırap milletin yüreğini sızlatır. Kardeşlerim! Son günlerde güvenlik güçlerimizi hedef alan menfur saldırılar neticesinde şehit evlatlarımıza Cenab-ı Hak’tan sonsuz rahmet, yaralılara acil şifalar, kederli ailelerine, yakınlarına, sevenlerine Aziz Milletimize başsağlığı, sabır metanetler diliyorum. Kardeşlerim! Bu menfur saldırılar, Aziz Milletimizin ‘daha kardeş olma’ beraber yaşama azim kararlılığını ziyadesiyle arttıracaktır. Milletimizin birlik, beraberlik, huzur kardeşliğini bozmayı hedefleyen saldırıları gerçekleştirenler sahip olduğumuz kardeşlik ruhu iradesi karşısında emellerine asla ulaşamayacaklar hüsrana uğrayacaklardır. Gün, büyük acımızı yüreğimizin derinliklerinde hissederek, kardeşliğimizi, birlik beraberliğimizi dünyaya gösterme, sabır metanet Aziz Şehitlerimize dua etme günüdür. Biz bir şehidimizin acısını ayrı ayrı duyarız. Her şehid haberiyle yüreğimizden bir parçanın koptuğunu hissederiz. Biliriz ki; “Toprak, uğrunda ölen varsa vatandır” inancı acımızı hafifleten teselli kaynağımızdır. Bu yüzden feryat etmeyiz, bağırıp çağırmayız, taşkınlık yapmayız, alkışlarla, tezahüratlarla cenazelerimizi gösteriye çevirmeyiz. Acımız öfkemiz, vakarımızdan, ağırbaşlılığımızdan uzaklaştırmaz. Öteden biz, şehitlerimizi, bir büyük milletin uğurlayışıyla uğurlarız: Tıpkı Rasulullah (s.a.s.)’ın sahâbilerinin gibi. Onlar şehitlerini toprağın bağrına verdiler mü'mine yakışan vakar olgunluktan asla taviz vermediler. Bu vesileyle evlatlarını ülke feda ailelerimizin acısını yürekten paylaşıyor, şehit evlatlarımıza bir Yüce Allah’tan rahmet diliyorum.</td>\n",
       "      <td>21.10.2011</td>\n",
       "    </tr>\n",
       "    <tr>\n",
       "      <th>2</th>\n",
       "      <td>2</td>\n",
       "      <td>MÜMİNLER TEK BİR VÜCUT GİBİDİR Muhterem Kardeşlerim! Millet geçtiğimiz Pazar günü Van Erciş’te meydana gelen depremin üzüntüsünü yüreklerimizin derinliklerinde hissetmekteyiz. Öncelikle, depremde canlarını kaybeden kardeşlerimize Cenab-ı Hak’tan rahmet diliyorum. Yaralı olanlara acil şifa; yakınlarına, meşakkate sıkıntıya karşı güçlü, dirençli sabırlı olmalarını Yüce Mevlâ’dan niyaz ediyorum. Yüce Rabbimiz musibetlerden milletimizi insanlığı muhafaza eylesin! Eğer musibetlerin denenmek, sınanmak imtihan edilmek bir anlamı varsa bilinsin ki, andan imtihan, Van Erciş depreminde canlarını mallarını kaybeden kardeşlerimiz değil; yeryüzü zemini üzerinde dolaşabilen bizler içindir. Dolayısıyla bizlere düşen üç görev bulunmaktadır: Birincisi, sabretmektir. Hutbemin başında okuduğum ayet-i kerimede Yüce Rabbimiz bizleri, açlıkla, korku mallardan, canlardan ürünlerden eksiltmek suretiyle imtihan edeceğini bildiriyor imtihanlara karşı sabırlı olanların müjdelenmesini emrediyor.1 Sevgili Peygamberimiz (sas) “Sabır (musibetin) vurduğu andadır.” 2 sözleriyle, yaşanılan musibetlerin anında gösterilmesi gereken sabrın önemine dikkat çekiyor. İkincisi, dua etmektir. Rabbimizi yanımızda hissedercesine O’na yalvarmak, yakarmak. Zira dua, müminin büyük serveti, büyük hazinesidir. Üçüncüsü, milletçe dayanışmadır. Herhangi bir yerde bir kardeşimizin başına bir musibet geldiği zaman Resûl-i Ekrem’in; “Bütün mü’minler bir vücut gibidir.” fermanı gereğince milletçe musibetin acısını kalbimizin ta derinliklerinde hissetmek gerekir. Değerli Kardeşlerim! Kıymetli Kardeşlerim! Hangi sebeplerle olsun, tabiî afetlere karşı maddî manevî tedbirleri almak gerektiği türlü izahtan vârestedir. Ancak, meydana geldikten okumak, anlamak yorumlamak birincisi önemli, imanî insanî bir görevdir. Var oluşun nihaî anlamını idrak eden, hayatın bir imtihan olduğuna inanan, ölümün yokluk hiçlik anlamına gelmediğini bilen müminler depremleri türlü musibeti anlamak yorumlamak zor olmasa gerektir. Kur’an’ın ‘zelzele’ dediği hadiseyi, fay hatlarıyla okumak, bir doğa kanunu deyip geçiştirmek, tesadüflerle izah etmek asla değildir. Yüce Dinimizin öğretilerine tür musibetleri değerlendirirken dikkat gereken iki husus vardır: Birincisi, tür musibetleri insanoğlunun sorumluluğunu ortadan kaldıracak şekilde yorumlayamayız. Dolayısıyla yaşadığımız hadiseden ibret alarak binalarımızı sağlam yapmalıyız. Peygamber Efendimiz (sav)’in ifadesiyle yaptığımız işi ‘en güzel sağlam’ bir şekilde yapmalı Allah’a tevekkül etmeliyiz. İkincisi, tür hadiseleri Rabbimizin kudretini sayarak yorumlayamayız. Zira insanın sorumsuzluklarından neş’et musibetleri, sorumluluklarını ortadan kaldıracak şekilde yorumlamak yanlışsa, tabiî musibetleri yaratıcı kudreti sayarak yorumlamak derece büyük bir hatadır. Sadece ülkemizde dünyanın neresinde bir gözyaşı, bir sıkıntı, bir musibet milletimizin birlik, beraberlik, yardımlaşma, dayanışma kardeşlik duygularının harekete geçmesi türlü takdirin üzerindedir. Nitekim deprem meydana geldiği andan doğusuyla-batısıyla, kuzeyiyle-güneyiyle topyekûn milletimizin aynı hüznü paylaşması, aynı acıyı hissetmesi gönül dünyamızın fay hatlarının güçlü bir göstermiştir. Unutulmasın ki, büyük deprem, büyük sarsıntı insanların inanç dünyalarında, kalplerimizin yüreklerimizin fay hatlarında meydana gelen, dünyamızı ahiretimizi sarsıntılardır. Mühim yeryüzündeki sarsıntılar sebebiyle Allah’a imanımızda gönül fay hatlarımızda bir sarsıntı meydana gelmemesidir. Yüce Rabbimiz aziz milletimizin kalbinden yüreğinden birlik, beraberlik, kardeşlik dayanışma ruhunu zaman eksik etmesin. Kardeşlerim! Bu vesileyle yardım kampanyasının başlamış olmasından büyük bir memnuniyet duyuyoruz. Diyanet İşleri Başkanlığı olarak, kampanyalara bir nebze destek olabilmek amacıyla bugün Cuma namazının akabinde sevgi, muhabbet kardeşlik yüklü yardımlarınıza aracılık etmek istiyoruz. Cenâb-ı Hak şimdiden yapacağınız yardımları dergâhında kabul eylesin. Hutbeme son verirken, yarın 88. yılını idrak edeceğimiz Cumhuriyet Bayramınızı tebrik ediyor, vesileyle şehitlerimizi rahmetle yâd ediyor, Yüce Mevlâ’dan birlik dirliğimizi daim eylemesini niyaz ediyorum.</td>\n",
       "      <td>28.10.2011</td>\n",
       "    </tr>\n",
       "    <tr>\n",
       "      <th>3</th>\n",
       "      <td>3</td>\n",
       "      <td>KURBAN BAYRAMI 'Şüphesiz güçlükle beraber bir kolaylık vardır. Gerçekten, güçlükle beraber bir kolaylık vardır. Öyleyse, bir işi bitirince koyul. Ancak Rabbine yönel yalvar.' 1 Böyle buyuruyordu Yüce Mevlâ Hz. Peygamber (s.a.s.)'in şahsında mü'minlere… Ve kurban, Rahmet Peygamberinin tesis sevgi medeniyetinin çocukları bizlerin, “Ben gelmedim kavga içün Benim işim sevi içün Dostun evi gönüllerdir Gönüller yapmaya geldim ” dizeleriyle; etnik, siyasi mezhepsel fark gözetmeden, kardeşçe yaşamamız gönüller inşa etmeyi salık veren bir ibadettir. Kardeşlerim! Bu bilinç etrafında idrak edilen Kurban ibadeti, birimizi İbrahim İsmail olmaya götürecek Rabbimizin sunacağı sonsuz sınırsız lütuflarla bayram yapacağız. Bugün bayram günü, yakınlaşma günü… “Allah’ım emredersen emrine âmâdeyim!” diyebilme günüdür bugün… Kardeşlerim! Bir hak dostunun; “Yılda bir kurban keserler halk-ı alem iyd içün, Dem be dem saat be saat kurbanınem!” hakikatinin sırrını anlama günüdür bugün… Önce vatan evlatlarının şehâdet haberleri, ardından Van depreminin üzüntüsü sarmışken yurdu, Rabbimizin beşâreti Kurban Bayramına erişmiş olmanın huzur mutluluğunu yaşamaktayız. Ne güzel bir tablodur aziz milletimiz, olumsuzluklara sıkıntılar karşısında yürek olmuş, birlik, beraberlik kardeşlik duygularımızın güçlü bir göstermiş kutlu bayramı haketmiş olmanın haklı gururunu bizlere yaşatmıştır. Kardeşlerim! Gün, kimsesizlerin kimsesi olma günüdür… Vatanı babasını kaybeden şehidimizin yetimine baba, eşine kardeş, anne babasına evlat olma günüdür bugün… Kardeşlerim! Depremde anne babasını kaybetmiş öksüz yetimlere sahip çıkma, çocuklarını kaybetmiş anne babalara evlat olma, akrabasını kaybedenlere akraba olma dertleriyle hemdert olma günüdür. Böylece sevinç tasayı paylaşan yekvücut bir millet olma günüdür. Kurban, Allah yolunda samimiyetin, fedakârlığın, cömertliğin teslimiyetin ifadesidir. Mü’minler kurban kesmekle, Hz. İbrahim Hz. İsmail’in hatıralarını tazelemekte gerektiğinde aynı teslimiyet fedakârlığa hazır göstermektedir. Kurban, et ihtiyacı hayvan kesimi değil, aksine “Allah’a etleri, kanları ulaşır; Allah’a ulaşan takvanızdır.”2 ilahî hitabı gereği Allah rızası kurbiyyeti gözetilerek bir ibadetin getirilmesidir. Kurban, değerlerine yabancılaşan insanın başta Allah'a, kendisine, tabiata, canlıya, cansıza şeye karşı yabancılaşmanın önüne geçmek emredilmiş bir ibadettir. Kurban, dünyevileşmeye karşı ilahi bir uyarıdır aynı zamanda. Modern hayatın bireyciliğe merkezli anlayışa mahkûm insanı, 'İnsan insanın cennetidir' 3 inancına götüren bir ibadettir. Huzurevlerinde sosyal hizmet kurumlarında gözleri kapılarda mahzun gönüllere evlat, anne baba kardeş hayır dualarını alma günüdür. Bu vesileyle idrak edeceğimiz Kurban bayramının birlik, beraberlik, kardeşlik kurbiyyetimize vesile olmasını niyaz ediyorum. Vatan şehit düşen vatan evlatlarını minnetle yâd ediyor, depremde kaybettiğimiz kardeşlerimize sonsuz rahmet, yakınlarına milletimize başsağlığı diliyorum. Şu an kutsal topraklarda 'Lebbeyk' nidalarıyla ilahi rahmete mazhar kardeşlerimizin haclarının mebrur olmasını Yüce Mevlâ'dan niyaz ediyorum. Ömrünüz kurban, ahiretiniz bayram olsun.!</td>\n",
       "      <td>06.11.2011</td>\n",
       "    </tr>\n",
       "    <tr>\n",
       "      <th>4</th>\n",
       "      <td>4</td>\n",
       "      <td>EŞİMİZ, EVLADIMIZ, ANNEMİZ: etmektedir. Zira, “Müslüman, Müslümanın elinden dilinden güvende kimsedir.”3 KADIN Muhterem Müminler! Erkek kadın insan, Allah’ın yarattığı mükemmel varlıktır. Şüphesiz insanın, erkek kadın yaratılmasında sayısız hikmetler mevcuttur. Yaratılışın kanunu budur. Her çift yaratılmıştır.1 Kıymetli Kardeşlerim! Sevgili Peygamberimiz kadınıyla, erkeğiyle, çocuğuyla, genciyle, yaşlısıyla insanlara büyük değer vermiştir. Bilhassa kadınlar kız çocukları konusunda özel tavsiyelerde bulunmuştur. Kadınların kız çocuklarının, şiddet, baskı aşağılamadan uzak tutulması fırsatta uyarılarda bulunmuştur. Zira kadın, insanlığın varlık sebebidir. Yüce Kitabımızda kadın; insanlığın anası Havva’dır. Cesaret asaletiyle Asiye’dir. İffet temizliğiyle Meryem’dir. Sadâkat teslimiyetiyle Hacer’dir. Hayatın zorlukları karşısında eşine verdiği destekle Hatice’dir. Peygamber hikmetini tevârüs ettiğimiz Âişe’dir. Nesli Pâki Muhammedî’nin annesi Fâtıma’dır. Cefakâr annelerimiz, vefakâr kız kardeşlerimiz, kader ortağımız çilekeş eşlerimiz kadın türlü hürmet saygıya layıktır. Nitekim Resul-i Ekrem Efendimiz; “Sizin hayırlılarınız hanımlarına karşı davrananınızdır”4 , “Sizden eşine karşı el kaldıranlarınız, hayırlı kimseler, insanlar değildir.5 , “Kadınlarınızın hakları konusunda Allaha hesap vereceğinizi unutmayın. Çünkü Allah’ın size emanetidir.” 6 buyurmaktadır. Kur’an-ı Kerim’de Sevgili Efendimizin dilinde, kadınıyla erkeğiyle Müslümanlar birbirlerini koruyan, birbirlerine destek olan, sevgi saygıyla hayatı paylaşan kardeşler dostlar ifade edilmektedir. “Müslüman müslümanın kardeşidir. Ona zulmetmez, ihanet etmez, yalan söylemez sıkıntıda bırakmaz. Müslümanın kanı (canı), namusu malı dokunulmazdır, saygındır…”2 Muhterem Müslümanlar!Aziz Kardeşlerim! Kardeşlerim! Şiddet, baskı aşağılama hayatın alanında karşı büyük bir zulümdür suçtur. Yüce Rabbimiz hayatımızı, adalet, sadakat, sorumluluk, dürüstlük, vefa, yardımlaşma, alçak gönüllülük merhamet yüksek ahlaki erdemlerle donatmamızı istemektedir. Yalan, ihanet, sorumsuzluk, kibir, öfke, nefret işkence eylemlerden kesin bir şekilde bizleri men Bugün insanlık, bilhassa kadın hakları konusunda büyük bir imtihan karşı karşıyadır. Dünyanın hala yerinde kadınlar; akıl almaz, vicdanlara sığdırılamaz baskı, şiddet zorbalıklara maruz kalmaktadır. Öteden kadınlarımıza kız çocuklarımıza yönelik baskı, şiddet aşağılamanın arkasında cehalet, kaba kuvvet kadın algısına bir takım yanlış köhne görüş düşünceler yatmaktadır. Aslında cahiliyye devrinin anlayış düşünceleridir. Nitekim, adalet timsali büyük halife Hz. Ömer, yanlış telakkiyi sözüyle açık bir biçimde ortaya koymuştur: “Biz Cahiliyye döneminde kadınları insan koymazdık. İslam geldi onlarla şekilde ilişki iletişim kurmamızı istedi. İşte zaman biz, üzerimizde hakları anladık.”7 Cahiliyye insanının kadını aşağılayan tutum tavrını çarpıcı etkileyici biçimde Cenab-ı Hak resmetmektedir: “Onlardan bir kızının dünyaya geldiği müjdelendiğinde, içi öfke dolarak yüzü simsiyah kesilir! Kendisine verilen kötü haber utanır eşinden dostundan gizlenirdi.”8 İşte cahiliyye insanının acınası ruh hali idi. Kadına karşı yönelen şiddet sebebiyle, çağdaş cahiliyyenin ruh hali değildir. Bunda kadını metalaştıran, eşya seviyesine indiren inkârcı-materyalist anlayışın payı unutulmamalıdır. Manevi değerleri sayan, hayatı hazcılığa indirgeyen yaklaşımın payı inkâr edilemez. Kadın çocuğa yönelik şiddette, alkolizmin etkisi göz ardı edilemez. Bilhassa, Batı muhitlerinde ortaya çıkan giderek dünyanın bölgelerine sirayet cinsellik şiddetin nesnesi haline getirilmiş kadınların, âhu enînleri, feryatları insanlığın vicdanını sızlatmaktadır. Bu realitenin ticari bir sektöre malzeme yürek burkan bir trajedidir. İslam ise, algıyı tersine çevirmiş, kadın kız çocuklarının saygıya layık kimseler insanlığa öğretmiştir. Nitekim, Hz. Ömer’in oğlu Abdullah konuda bir tanıklıkta bulunmaktadır: “Biz Peygamber(sas) zamanında hakkımızda vahiy indirilir korkusuyla, hanımlarımıza kaba davranmaktan incitici söz söylemekten çekinirdik. Maalesef Efendimizin(sas) vefatından aynı duyarlılığı gösteremez olduk.”9 etmeyen, hak hukukunun gözetildiği erdemli bir fert toplum inşa etmektir. Kardeşlerim! Geliniz, kendimizden başlamak üzere, acısıyla, tatlısıyla ömrümüzü geçirdiğimiz eşlerimizi, ailelerimizi, komşularımızı çevremizi elimizden, dilimizden, emin kılalım. Zira mümin, güven veren emin kimsedir. Geleneğimizdeki, “karıncayı incitmeme” ilkesi hayatımızın vazgeçilmez düsturu olsun. Gönül kırmanın Kâbe’yi yıkmaktan büyük bir vebal telakki edildiğini zaman unutmayalım. Şiddet, hayatımızdan uzak olsun. Sevgi, saygı hoşgörü hayatımıza hakim olsun. Aziz kardeşlerim, kadınını alçaltan milletlerin yükseldiğine tarih şahit olmamıştır. 1 Zariyat, 51/49. 2 Buhârî, Mezâlim, 3; Müslim, Birr, 58; Tirmizî, Birr, 18. Buhari, İman, 4-5; Müslim, İman, 64; Ebu Davud, Cihad, 2; Tirmizi, Kıyame, 52. 3 4 Tirmizi, Rada’, 11. 5 Ebû Dâvûd, Nikâh 42. 6 Müslim, Hac, 19. 7 Buhâri, Libâs, 31; Tefsîr 66, 2. 8 Nahl, 58/59 9 Buhârî, Nikâh, 81. Hazırlayan Redaksiyon: Din Hizmetleri Genel Müdürlüğü Aziz Kardeşlerim! Rabbimiz, haksızlık zulmü asla sevmez. Zulüm şiddeti gören yaklaşımın, düşüncenin, geleneğin inanışın; Kuran Sünnet’te yer bulması mümkün değildir. Dinimizin hedefi, kadını erkeğiyle bütünleşmiş, ayrılığı parçalanmayı tasvip</td>\n",
       "      <td>25.11.2011</td>\n",
       "    </tr>\n",
       "  </tbody>\n",
       "</table></div>"
      ],
      "text/plain": [
       "   Unnamed: 0                                            content        date\n",
       "0           0  MERHAMET EĞİTİMİ “Küçüklerimize sevgi, gösterm...  15.04.2011\n",
       "1           1  AZÎZ ŞEHİTLERİMİZE… Bir cenaze gördüğü zaman “...  21.10.2011\n",
       "2           2  MÜMİNLER TEK BİR VÜCUT GİBİDİR Muhterem Kardeş...  28.10.2011\n",
       "3           3  KURBAN BAYRAMI 'Şüphesiz güçlükle beraber bir ...  06.11.2011\n",
       "4           4  EŞİMİZ, EVLADIMIZ, ANNEMİZ: etmektedir. Zira, ...  25.11.2011"
      ]
     },
     "execution_count": 3,
     "metadata": {},
     "output_type": "execute_result"
    }
   ],
   "source": [
    "# #stopwords in turkish\n",
    "\n",
    "import spacy\n",
    "# use spacy module\n",
    "from spacy.lang.tr import Turkish\n",
    "nlp = Turkish()\n",
    "nlp.max_length = 199386400\n",
    "\n",
    "\n",
    "sw=spacy.lang.tr.stop_words.STOP_WORDS\n",
    "\n",
    "\n",
    "df['content']=df['content'].apply(lambda x: ' '.join(x for x in x.split() if x not in sw))\n",
    "\n",
    "df.head()"
   ]
  },
  {
   "cell_type": "code",
   "execution_count": null,
   "metadata": {},
   "outputs": [],
   "source": [
    "#tokenization\n",
    "import nltk\n",
    "nltk.download('punkt')\n",
    "\n",
    "from nltk.tokenize import sent_tokenize\n",
    "\n",
    "tokened=df_demo.content.apply(lambda x: sent_tokenize(x))"
   ]
  },
  {
   "cell_type": "code",
   "execution_count": null,
   "metadata": {},
   "outputs": [],
   "source": [
    "import zeyrek\n",
    "analyzer = zeyrek.MorphAnalyzer()\n",
    "\n",
    "def lemmatization(token_txt):\n",
    "    text= [analyzer.lemmatize(word) for word in token_txt]\n",
    "    return text\n",
    "\n",
    "\n",
    "lemt=df_demo['tokened'].apply(lambda x: lemmatization(x))\n",
    "\n",
    "df_demo['lematized']=lemt #lematization\n",
    "\n",
    "\n",
    "df_demo['lematized_v2']=lemt.str[0].explode().str[1].str[0].groupby(level=0).apply(\",\".join)\n",
    "\n",
    "df_demo.lematized_v2=df_demo.lematized_v2.str.lower()"
   ]
  }
 ],
 "metadata": {
  "kernelspec": {
   "display_name": "pip_env",
   "language": "python",
   "name": "python3"
  },
  "language_info": {
   "codemirror_mode": {
    "name": "ipython",
    "version": 3
   },
   "file_extension": ".py",
   "mimetype": "text/x-python",
   "name": "python",
   "nbconvert_exporter": "python",
   "pygments_lexer": "ipython3",
   "version": "3.8.15"
  },
  "orig_nbformat": 4,
  "vscode": {
   "interpreter": {
    "hash": "c1dd293556c6af1d0ca5c746267559261ae8c944f03099318a660e23023961d8"
   }
  }
 },
 "nbformat": 4,
 "nbformat_minor": 2
}
